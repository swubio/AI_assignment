{
 "cells": [
  {
   "cell_type": "markdown",
   "metadata": {},
   "source": [
    "1. Support Vector Machine에서 다음 용어에 대해서 정의해보세요."
   ]
  },
  {
   "cell_type": "markdown",
   "metadata": {},
   "source": [
    "Margin\n",
    ": 학습 데이터에서 결정 경계에 가장 가까운 점과 결정 경계 사이의 거리."
   ]
  },
  {
   "cell_type": "markdown",
   "metadata": {},
   "source": [
    "Optimal Hyperplane\n",
    ": 두 데이터(서포트 벡터)와 결정 경계간 margin을 최대화 할 수 있는 경계."
   ]
  },
  {
   "cell_type": "markdown",
   "metadata": {},
   "source": [
    "Support Vector\n",
    ": 데이터를 가장 잘 분류할 수 있는 초평면(Optimal Hyperplane)을 생성하는데 연관있는 데이터."
   ]
  },
  {
   "cell_type": "markdown",
   "metadata": {},
   "source": [
    "Kernel 기법\n",
    ": 데이터를 다른 특징 공간에 옮긴 후 선형회귀 하는 것."
   ]
  },
  {
   "cell_type": "markdown",
   "metadata": {},
   "source": [
    "Hard margin\n",
    ": 결정 경계의 마진 안에 분류한 데이터가 포함되지 않는 것."
   ]
  },
  {
   "cell_type": "markdown",
   "metadata": {},
   "source": [
    "Soft margin\n",
    ": 결정 경계의 마진 안에 일부 데이터가 포함되는 것."
   ]
  }
 ],
 "metadata": {
  "language_info": {
   "name": "python"
  }
 },
 "nbformat": 4,
 "nbformat_minor": 2
}
