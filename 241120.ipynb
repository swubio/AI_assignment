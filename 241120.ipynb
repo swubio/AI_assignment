{
 "cells": [
  {
   "cell_type": "markdown",
   "metadata": {},
   "source": [
    "1. 어떠한 데이터에 K-means clustering algorithms을 적용하려고 하는데, 몇 개의 cluster로 나누어야 할지 잘 모를 때 사용할 수 있는 방법과 그 원리에 대해서 설명해보세요."
   ]
  },
  {
   "cell_type": "markdown",
   "metadata": {},
   "source": [
    ": Elbow method를 사용한다.\n",
    "Elbow method는 각 k값에 대한 WCSS의 값을 나타내는 plot에서 WCSS가 갑자기 낮아져 팔꿈치 처럼 꺾이는 부분을 기준으로 cluster의 개수를 정한다.\n",
    "K-means는 WCSS(응집도)가 낮을수록 좋지만, 너무 세세한 clustering보다 적당한 clustering이 필요하다."
   ]
  }
 ],
 "metadata": {
  "language_info": {
   "name": "python"
  }
 },
 "nbformat": 4,
 "nbformat_minor": 2
}
