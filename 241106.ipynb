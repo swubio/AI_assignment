{
 "cells": [
  {
   "cell_type": "markdown",
   "metadata": {},
   "source": [
    "1. KNN 알고리즘에서 K 값을 보통 홀수로 정하는데 그 이유는 무엇인가요?\n",
    "\n"
   ]
  },
  {
   "cell_type": "markdown",
   "metadata": {},
   "source": [
    ": KNN은 새로운 데이터 포인트에서 가장 가까운 k개의 기존 데이터로 다수결을 통해 새로운 데이터를 분류한다. 이때, k를 홀수로 지정하여 동률이 나오는 상황을 방지한다."
   ]
  },
  {
   "cell_type": "markdown",
   "metadata": {},
   "source": [
    "2. KNN 알고리즘에서 K 값이 너무 작거나 클 경우 생길 수 있는 문제는 무엇인가요?"
   ]
  },
  {
   "cell_type": "markdown",
   "metadata": {},
   "source": [
    ": K 값이 너무 작으면 특정 데이터에만 의존하여 새로운 데이터에서 제대로 예측하지 못하게 된다. 일반화된 특징을 학습하지 못하고 test data에서만 정확도가 높고, test data에서는 결과가 이상하게 나올 수 있다.\n",
    "k값이 너무 클 경우, 새로운 데이터 주변의 패턴을 무시하고 전체적으로 비율이 높은 값에 맞춰 분류된다. 세밀하게 구분하지 못하고 모든 데이터를 하나의 값으로 분류할 수도 있다. 또한, 불필요하게 계산 값이 많아지기 때문에 속도가 느려질 수 있다."
   ]
  }
 ],
 "metadata": {
  "language_info": {
   "name": "python"
  }
 },
 "nbformat": 4,
 "nbformat_minor": 2
}
