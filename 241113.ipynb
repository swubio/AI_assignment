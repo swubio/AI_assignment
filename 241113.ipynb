{
 "cells": [
  {
   "cell_type": "markdown",
   "metadata": {},
   "source": [
    "1. KNN 을 이용한 Classifier와 Regressor의 차이를 설명해보세요."
   ]
  },
  {
   "cell_type": "markdown",
   "metadata": {},
   "source": [
    ": Classification(분류)는 가장 가까운 k개의 데이터를 보고 다수결로 분류하는 것이다. 새로운 데이터가 무엇인지 예측한다.\n",
    "Regression(회귀)는 가장 가까운 k개의 데이터의 평균을 계산하여 새로운 데이터가 얼마인지 예측한다. 결과가 두 개로 나눠진 것이 아닌, 특정 값들이 있는 경우에 사용한다.\n"
   ]
  }
 ],
 "metadata": {
  "language_info": {
   "name": "python"
  }
 },
 "nbformat": 4,
 "nbformat_minor": 2
}
