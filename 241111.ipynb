{
 "cells": [
  {
   "cell_type": "markdown",
   "metadata": {},
   "source": [
    "1. PCA를 사용하는 목적이 무엇인가요?\n",
    "\n"
   ]
  },
  {
   "cell_type": "markdown",
   "metadata": {},
   "source": [
    ": PCA는 차원축소 방법으로, 4차원 이상의 2D로 나타내기 힘든 데이터들을 차원축소하여 보기 쉽게 하기 위해 PCA를 사용한다."
   ]
  },
  {
   "cell_type": "markdown",
   "metadata": {},
   "source": [
    "2. PCA에서 PC1, PC2에 대해서 정의해보세요."
   ]
  },
  {
   "cell_type": "markdown",
   "metadata": {},
   "source": [
    ": PC1은 각 데이터에서 축으로 직교하게 내린 부분(d1,d2,...)에서 X로 표시된 중심까지의 거리(distance)값이 가장 크게 나오는 축을 말한다.\n",
    "위처럼 지정된 PC1에 직교하는 축을 PC2라고 한다."
   ]
  }
 ],
 "metadata": {
  "language_info": {
   "name": "python"
  }
 },
 "nbformat": 4,
 "nbformat_minor": 2
}
