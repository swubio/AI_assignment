{
 "cells": [
  {
   "cell_type": "markdown",
   "metadata": {},
   "source": [
    "1. Accuracy, Sensitivity, Specificity, Percision, F-score를 계산해보세요."
   ]
  },
  {
   "cell_type": "code",
   "execution_count": 1,
   "metadata": {},
   "outputs": [
    {
     "ename": "SyntaxError",
     "evalue": "cannot assign to expression here. Maybe you meant '==' instead of '='? (2712452810.py, line 5)",
     "output_type": "error",
     "traceback": [
      "\u001b[1;36m  Cell \u001b[1;32mIn[1], line 5\u001b[1;36m\u001b[0m\n\u001b[1;33m    F-score = 2*Sensitivity*Precision/(Sensitivity+Precision)\u001b[0m\n\u001b[1;37m    ^\u001b[0m\n\u001b[1;31mSyntaxError\u001b[0m\u001b[1;31m:\u001b[0m cannot assign to expression here. Maybe you meant '==' instead of '='?\n"
     ]
    }
   ],
   "source": [
    "Accuracy = TP+TN/TP+TN+FP+FN\n",
    "Sensitivity = TP/TP+FN\n",
    "Specificity = TN/TN+FP\n",
    "Precision = TP/TP+FP\n",
    "F-score = 2*Sensitivity*Precision/(Sensitivity+Precision)"
   ]
  },
  {
   "cell_type": "code",
   "execution_count": 4,
   "metadata": {},
   "outputs": [
    {
     "name": "stdout",
     "output_type": "stream",
     "text": [
      "0.92\n",
      "0.2222222222222222\n",
      "0.01098901098901099\n",
      "0.6666666666666666\n",
      "0.3333333333333333\n"
     ]
    }
   ],
   "source": [
    "Accuracy = (2+90)/(2+1+7+90)\n",
    "Sensitivity = 2/(2+7)\n",
    "Specificity = 1/(1+90)\n",
    "Precision = 2/(2+1)\n",
    "FScore = 2*Sensitivity*Precision/(Sensitivity+Precision)\n",
    "\n",
    "print(Accuracy)\n",
    "print(Sensitivity)\n",
    "print(Specificity)\n",
    "print(Precision)\n",
    "print(FScore)"
   ]
  }
 ],
 "metadata": {
  "kernelspec": {
   "display_name": "base",
   "language": "python",
   "name": "python3"
  },
  "language_info": {
   "codemirror_mode": {
    "name": "ipython",
    "version": 3
   },
   "file_extension": ".py",
   "mimetype": "text/x-python",
   "name": "python",
   "nbconvert_exporter": "python",
   "pygments_lexer": "ipython3",
   "version": "3.11.7"
  }
 },
 "nbformat": 4,
 "nbformat_minor": 2
}
