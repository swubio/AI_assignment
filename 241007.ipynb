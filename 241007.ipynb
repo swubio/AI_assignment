{
 "cells": [
  {
   "cell_type": "markdown",
   "metadata": {},
   "source": [
    "1. 인공지능이 사람 만큼 또는 사람보다 더 일을 잘한다면 사람은 무엇을 해야 할까?"
   ]
  },
  {
   "cell_type": "markdown",
   "metadata": {},
   "source": [
    ": 일을 잘 한다고 해도, 이는 단순 노동에 그칠 것이다. 감정적 소통, 윤리적 판단은 인간의 고유한 특성이며, 이를 AI가 더 잘하기란 어렵다. 뿐만아니라, 고도로 발달된 AI라 할지라도, 이를 제대로 활용하고, 작동 관리하는 사람이 필요하다. 오히려 잡다한 업무는 AI에 맡겨두고 인간 본질을 찾는 시간을 키울 수 있게 될 것이다."
   ]
  },
  {
   "cell_type": "markdown",
   "metadata": {},
   "source": [
    "2. 선형회귀와 로지스틱 회귀의 차이점에 대해 서술해보세요."
   ]
  },
  {
   "cell_type": "markdown",
   "metadata": {},
   "source": [
    ": 선형회귀는 결과값이 연속적이고 다양할때, 로지스틱 회귀는 값이 이진적으로 나누어져 있을 때 적합하다.\n",
    "로지스틱 회귀는 결과를 0에서 1사이로 표현하여 확률을 나타낸다."
   ]
  }
 ],
 "metadata": {
  "kernelspec": {
   "display_name": "base",
   "language": "python",
   "name": "python3"
  },
  "language_info": {
   "name": "python",
   "version": "3.11.7"
  }
 },
 "nbformat": 4,
 "nbformat_minor": 2
}
