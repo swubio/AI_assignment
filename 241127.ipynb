{
 "cells": [
  {
   "cell_type": "markdown",
   "metadata": {},
   "source": [
    "1. PCA와 t-SNE의 공통점과 차이점을 써보세요."
   ]
  },
  {
   "cell_type": "markdown",
   "metadata": {},
   "source": [
    ": PCA와 t-SNE는 모두 차원축소 기법이다. 고차원의 데이터를 저차원으로 만들고 특히 시각화에 유용하게 사용된다.\n",
    "\n",
    "PCA는 선형적인 차원 축소로, distance가 최대가 되는 PC1과 PC1에 직교인 PC2를 통한 차원축소 방법이다.\n",
    "t-SNE는 비선형적 방법으로, 정규분포와 t-분포의 확률밀도를 사용하여 유사도를 맞추는 방식으로 계산한다. \n"
   ]
  }
 ],
 "metadata": {
  "language_info": {
   "name": "python"
  }
 },
 "nbformat": 4,
 "nbformat_minor": 2
}
