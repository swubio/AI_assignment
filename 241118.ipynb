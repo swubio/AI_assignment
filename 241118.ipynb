{
 "cells": [
  {
   "cell_type": "markdown",
   "metadata": {},
   "source": [
    "1. 가우시안 혼합 모델은 어떤 통계 분포의 혼합으로 가정하나요?\n",
    "\n"
   ]
  },
  {
   "cell_type": "markdown",
   "metadata": {},
   "source": [
    ": 정규 분포(가우시안 분포)의 혼합으로 생성 되었다고 가정한다. \n",
    "데이터는 여러개의 클러스터로 구성되어있고, 각각의 클러스터는 가우시안 분포로 표현된다."
   ]
  },
  {
   "cell_type": "markdown",
   "metadata": {},
   "source": [
    "2. GMM과 K-Means 알고리즘의 주요 차이점은 무엇인가요?"
   ]
  },
  {
   "cell_type": "markdown",
   "metadata": {},
   "source": [
    ": K-means는 거리 기반으로 클러스터링을 한다. 원형의 형태로 경계가 명확하여 각 데이터 포인트는 정확히 나뉘어져 클러스터링 된다. \n",
    "GMM은 확률 기반으로 클러스터링을 한다. 경계가 명확하지 않다."
   ]
  }
 ],
 "metadata": {
  "language_info": {
   "name": "python"
  }
 },
 "nbformat": 4,
 "nbformat_minor": 2
}
