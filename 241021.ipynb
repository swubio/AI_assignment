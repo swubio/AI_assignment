{
 "cells": [
  {
   "cell_type": "markdown",
   "metadata": {},
   "source": [
    "1. Decision Tree와 Random Forest의 차이점을 설명해보세요."
   ]
  },
  {
   "cell_type": "markdown",
   "metadata": {},
   "source": [
    ": Random Forest는 Decision Tree 모델을 여러개 사용하여 예측 정확도를 높이는 모델이다다.\n",
    " Decision Tree는 결과값이 하나만 나오지만, Random Forest는 여러개의 결과값이 나오며, 그 중 가장 많이 나온 결과에 따르는 방법이다."
   ]
  }
 ],
 "metadata": {
  "language_info": {
   "name": "python"
  }
 },
 "nbformat": 4,
 "nbformat_minor": 2
}
